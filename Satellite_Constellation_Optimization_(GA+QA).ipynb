{
  "nbformat": 4,
  "nbformat_minor": 0,
  "metadata": {
    "colab": {
      "name": "Satellite Constellation Optimization (GA+QA).ipynb",
      "provenance": [],
      "collapsed_sections": [],
      "toc_visible": true,
      "machine_shape": "hm",
      "authorship_tag": "ABX9TyO6vCnvw7Gy8Z3eDtC36oAA",
      "include_colab_link": true
    },
    "kernelspec": {
      "name": "python3",
      "display_name": "Python 3"
    },
    "accelerator": "GPU"
  },
  "cells": [
    {
      "cell_type": "markdown",
      "metadata": {
        "id": "view-in-github",
        "colab_type": "text"
      },
      "source": [
        "<a href=\"https://colab.research.google.com/github/dsskonuru/satellite-constellation-optimization-ga-qa/blob/master/Satellite_Constellation_Optimization_(GA%2BQA).ipynb\" target=\"_parent\"><img src=\"https://colab.research.google.com/assets/colab-badge.svg\" alt=\"Open In Colab\"/></a>"
      ]
    },
    {
      "cell_type": "code",
      "metadata": {
        "id": "h7ViiJiaNwOc",
        "colab_type": "code",
        "colab": {}
      },
      "source": [
        "!pip install dimod\n",
        "!pip install networkx \n",
        "!pip install dwave-neal"
      ],
      "execution_count": 0,
      "outputs": []
    },
    {
      "cell_type": "markdown",
      "metadata": {
        "id": "bIfQnA_BFGC3",
        "colab_type": "text"
      },
      "source": [
        "### Complexity of the problem"
      ]
    },
    {
      "cell_type": "markdown",
      "metadata": {
        "id": "z_qNqwKQm9T7",
        "colab_type": "text"
      },
      "source": [
        "Suppose you have a set of ``N`` satellites and ``k`` targets on Earth that you\n",
        "want to observe. Each of your satellites has varying capabilities for Earth\n",
        "observation; in particular, the amount of ground that they can observe for a\n",
        "set amount of time is different. Since there are ``k`` targets, you would like\n",
        "to have ``k`` constellations to monitor said targets. \n",
        "\n",
        "Note: We are assuming that ``N`` is a multiple of ``k``."
      ]
    },
    {
      "cell_type": "code",
      "metadata": {
        "id": "s9x4cMuqF6mw",
        "colab_type": "code",
        "colab": {}
      },
      "source": [
        "N = 12\n",
        "k = 4 # number of targets\n",
        "\n",
        "subconstellation_size = N // k  # satellites per constellation"
      ],
      "execution_count": 0,
      "outputs": []
    },
    {
      "cell_type": "markdown",
      "metadata": {
        "id": "eiRaFJ9neMqc",
        "colab_type": "text"
      },
      "source": [
        "Each of the 12 satellites (labelled 0-11) has a coverage score. This could be calculated as the percentage of time  that the Earth region is in range of the satellite. We are assuming a random value in this case, this can be replaced by real values in a particular application."
      ]
    },
    {
      "cell_type": "code",
      "metadata": {
        "id": "kZ3VdUrQIkLq",
        "colab_type": "code",
        "colab": {
          "base_uri": "https://localhost:8080/",
          "height": 34
        },
        "outputId": "69655c01-f86d-4d3c-dcc6-b10285e187b4"
      },
      "source": [
        "import numpy as np\n",
        "import matplotlib.pyplot as plt\n",
        "\n",
        "coverage = {}\n",
        "for i in range(N):\n",
        "  coverage[i] = np.random.randint(0, 100)/100\n",
        "print(coverage)"
      ],
      "execution_count": 81,
      "outputs": [
        {
          "output_type": "stream",
          "text": [
            "{0: 0.33, 1: 0.3, 2: 0.04, 3: 0.53, 4: 0.9, 5: 0.25, 6: 0.95, 7: 0.65, 8: 0.88, 9: 0.31, 10: 0.85, 11: 0.82}\n"
          ],
          "name": "stdout"
        }
      ]
    },
    {
      "cell_type": "code",
      "metadata": {
        "id": "h-PDBnozJA36",
        "colab_type": "code",
        "colab": {
          "base_uri": "https://localhost:8080/",
          "height": 279
        },
        "outputId": "091f9a8a-5071-43db-ee86-466e58500dc7"
      },
      "source": [
        "lists = sorted(coverage.items()) # sorted by key, return a list of tuples\n",
        "x, y = zip(*lists) # unpack a list of pairs into two tuples\n",
        "plt.xlabel(\"Satellite #\")\n",
        "plt.ylabel(\"Coverage\")\n",
        "plt.hlines(score_threshold, 0, N, linestyles='dashed', colors='r')\n",
        "plt.bar(x, y, align='edge')\n",
        "plt.show()"
      ],
      "execution_count": 82,
      "outputs": [
        {
          "output_type": "display_data",
          "data": {
            "image/png": "[encoded data removed]",
            "text/plain": [
              "<Figure size 432x288 with 1 Axes>"
            ]
          },
          "metadata": {
            "tags": [],
            "needs_background": "light"
          }
        }
      ]
    },
    {
      "cell_type": "code",
      "metadata": {
        "id": "jeqpVi32G6_V",
        "colab_type": "code",
        "colab": {}
      },
      "source": [
        "subconstellations = {} # create dict of subconstellations and its coverage\n",
        "\n",
        "for subconstellation in itertools.combinations(range(N), N//k):\n",
        "    score = sum(coverage[v] for v in subconstellation) / subconstellation_size\n",
        "\n",
        "    if score < score_threshold:\n",
        "        continue\n",
        "\n",
        "    subconstellations[subconstellation] = score"
      ],
      "execution_count": 0,
      "outputs": []
    },
    {
      "cell_type": "markdown",
      "metadata": {
        "id": "bv70plghgr7Y",
        "colab_type": "text"
      },
      "source": [
        "The ``score_threshold`` is used to determine bad constellations. Constellations with coverage less than this value is not considered. It is assigned an arbitrarily picked number i.e `0.4`. "
      ]
    },
    {
      "cell_type": "code",
      "metadata": {
        "id": "bGQIcKHKFLJG",
        "colab_type": "code",
        "colab": {}
      },
      "source": [
        "G = nx.Graph()\n",
        "G.add_nodes_from(list(subconstellations.items()))\n",
        "\n",
        "for c0, c1 in itertools.combinations(list(subconstellations.keys()), 2):\n",
        "    if set(c0).isdisjoint(set(c1)):\n",
        "        G.add_edge(c0,c1)"
      ],
      "execution_count": 0,
      "outputs": []
    },
    {
      "cell_type": "code",
      "metadata": {
        "id": "O0wZ7ynGFuMM",
        "colab_type": "code",
        "colab": {
          "base_uri": "https://localhost:8080/",
          "height": 319
        },
        "outputId": "cdb5ddee-29ee-4d9b-844c-75c1094743e5"
      },
      "source": [
        "nx.draw(G)"
      ],
      "execution_count": 85,
      "outputs": [
        {
          "output_type": "display_data",
          "data": {
            "image/png": "[encoded data removed]",
            "text/plain": [
              "<Figure size 432x288 with 1 Axes>"
            ]
          },
          "metadata": {
            "tags": []
          }
        }
      ]
    },
    {
      "cell_type": "markdown",
      "metadata": {
        "id": "_5jUXeKhIrCB",
        "colab_type": "text"
      },
      "source": [
        "### Formulating the problem\n"
      ]
    },
    {
      "cell_type": "code",
      "metadata": {
        "id": "JnFcCgU3bqIg",
        "colab_type": "code",
        "colab": {}
      },
      "source": [
        "N = 35\n",
        "k = 10 # number of targets\n",
        "\n",
        "subconstellation_size = N // k  # satellites per constellation"
      ],
      "execution_count": 0,
      "outputs": []
    },
    {
      "cell_type": "code",
      "metadata": {
        "id": "WyJQnYPTc3Hp",
        "colab_type": "code",
        "outputId": "f5d68282-8ee8-4ca3-d6ad-15732dc294ec",
        "colab": {
          "base_uri": "https://localhost:8080/",
          "height": 54
        }
      },
      "source": [
        "coverage = {}\n",
        "for i in range(N):\n",
        "  coverage[i] = np.random.randint(0, 100)/100\n",
        "print(coverage)\n",
        "\n",
        "score_threshold = 0.4"
      ],
      "execution_count": 90,
      "outputs": [
        {
          "output_type": "stream",
          "text": [
            "{0: 0.08, 1: 0.94, 2: 0.41, 3: 0.0, 4: 0.8, 5: 0.15, 6: 0.22, 7: 0.38, 8: 0.38, 9: 0.02, 10: 0.26, 11: 0.56, 12: 0.16, 13: 0.14, 14: 0.34, 15: 0.41, 16: 0.15, 17: 0.42, 18: 0.64, 19: 0.55, 20: 0.59, 21: 0.25, 22: 0.08, 23: 0.94, 24: 0.93, 25: 0.61, 26: 0.68, 27: 0.61, 28: 0.47, 29: 0.47, 30: 0.54, 31: 0.68, 32: 0.66, 33: 0.9, 34: 0.62}\n"
          ],
          "name": "stdout"
        }
      ]
    },
    {
      "cell_type": "code",
      "metadata": {
        "id": "8KBpXzrwgN3f",
        "colab_type": "code",
        "outputId": "2a920c4f-6aae-45c8-b5c1-3f36d2827e85",
        "colab": {
          "base_uri": "https://localhost:8080/",
          "height": 279
        }
      },
      "source": [
        "lists = sorted(coverage.items()) # sorted by key, return a list of tuples\n",
        "x, y = zip(*lists) # unpack a list of pairs into two tuples\n",
        "plt.xlabel(\"Satellite #\")\n",
        "plt.ylabel(\"Coverage\")\n",
        "plt.hlines(score_threshold, 0, N, linestyles='dashed', colors='r')\n",
        "plt.bar(x, y, align='edge')\n",
        "plt.show()"
      ],
      "execution_count": 91,
      "outputs": [
        {
          "output_type": "display_data",
          "data": {
            "image/png": "[encoded data removed]",
            "text/plain": [
              "<Figure size 432x288 with 1 Axes>"
            ]
          },
          "metadata": {
            "tags": [],
            "needs_background": "light"
          }
        }
      ]
    },
    {
      "cell_type": "code",
      "metadata": {
        "id": "ojJpAl7h_7VC",
        "colab_type": "code",
        "outputId": "d0e93c72-25f0-4cbd-ad25-49c9d00b7471",
        "colab": {
          "base_uri": "https://localhost:8080/",
          "height": 34
        }
      },
      "source": [
        "import itertools\n",
        "\n",
        "subconstellations = {} # create dict of subconstellations and its coverage\n",
        "\n",
        "for subconstellation in itertools.combinations(range(N), N//k):\n",
        "    score = sum(coverage[v] for v in subconstellation) / subconstellation_size\n",
        "\n",
        "    if score < score_threshold:\n",
        "        continue\n",
        "\n",
        "    subconstellations[frozenset(subconstellation)] = score\n",
        "\n",
        "# print(list(subconstellations.items()))\n",
        "print(len(subconstellations))"
      ],
      "execution_count": 92,
      "outputs": [
        {
          "output_type": "stream",
          "text": [
            "4195\n"
          ],
          "name": "stdout"
        }
      ]
    },
    {
      "cell_type": "markdown",
      "metadata": {
        "id": "HBw65fnTMnjU",
        "colab_type": "text"
      },
      "source": [
        "### Genetic Algorithm"
      ]
    },
    {
      "cell_type": "code",
      "metadata": {
        "id": "mfm4ycqEACeI",
        "colab_type": "code",
        "colab": {}
      },
      "source": [
        "def init_pop(sol_per_pop):\n",
        "  population = []\n",
        "  for i in range(sol_per_pop):\n",
        "    constellation = [np.random.choice(list(subconstellations.keys())) for j in range(k)]\n",
        "    population.append(constellation)\n",
        "  return population"
      ],
      "execution_count": 0,
      "outputs": []
    },
    {
      "cell_type": "code",
      "metadata": {
        "id": "2rrSXdB8_7Mj",
        "colab_type": "code",
        "colab": {}
      },
      "source": [
        "import itertools\n",
        "\n",
        "def cal_fitness(population):\n",
        "  fitness = []\n",
        "\n",
        "  for con in population:\n",
        "    coverage = sum([subconstellations[subcon] for subcon in con])\n",
        "\n",
        "    # penalty multiple subcons sharing the same satellite\n",
        "    for a, b in itertools.combinations(con, 2): \n",
        "      if not a.isdisjoint(b):\n",
        "        coverage-=1\n",
        "\n",
        "    fitness.append(coverage)\n",
        "      \n",
        "  return fitness"
      ],
      "execution_count": 0,
      "outputs": []
    },
    {
      "cell_type": "code",
      "metadata": {
        "id": "4mIZyOlm_7CP",
        "colab_type": "code",
        "colab": {}
      },
      "source": [
        "def select_mating_pool(population, fitness, num_parents):\n",
        "    # Selecting the best individuals in the current generation as parents for producing the offspring of the next generation.\n",
        "    parents = []\n",
        "    for parent_num in range(num_parents):\n",
        "        max_fitness_idx = fitness.index(max(fitness))\n",
        "        parents.append(population[max_fitness_idx])\n",
        "        fitness[max_fitness_idx] = -999\n",
        "    return parents"
      ],
      "execution_count": 0,
      "outputs": []
    },
    {
      "cell_type": "code",
      "metadata": {
        "id": "IheNmrMiAJpb",
        "colab_type": "code",
        "colab": {}
      },
      "source": [
        "def crossover(parents, offspring_size):\n",
        "    offsprings = []\n",
        "    # The point at which crossover takes place between two parents. Usually it is at the center.\n",
        "    crossover_point = np.random.randint(k)\n",
        "\n",
        "    for i in range(offspring_size):\n",
        "        # Index of the first parent to mate.\n",
        "        parent1_idx = i%len(parents)\n",
        "        # Index of the second parent to mate.\n",
        "        parent2_idx = (i+1)%len(parents)\n",
        "        offspring = parents[parent1_idx][:crossover_point]+parents[parent2_idx][crossover_point:]\n",
        "        offsprings.append(offspring)\n",
        "\n",
        "    return offsprings"
      ],
      "execution_count": 0,
      "outputs": []
    },
    {
      "cell_type": "code",
      "metadata": {
        "id": "qobkEMrqAJnh",
        "colab_type": "code",
        "colab": {}
      },
      "source": [
        "def mutation(offspring_crossover):\n",
        "    # Mutation changes a single gene in each offspring randomly.\n",
        "    for idx in range(len(offspring_crossover)):\n",
        "        # The random value to be added to the gene.\n",
        "        random_idx = np.random.randint(N*k)\n",
        "        random_value = np.random.choice(list(subconstellations.keys()))\n",
        "        offspring_crossover[idx] = offspring_crossover[idx][:random_idx] + [random_value] + offspring_crossover[idx][random_idx+1:]\n",
        "    return offspring_crossover"
      ],
      "execution_count": 0,
      "outputs": []
    },
    {
      "cell_type": "code",
      "metadata": {
        "id": "V344ZW63AJjv",
        "colab_type": "code",
        "colab": {}
      },
      "source": [
        "sol_per_pop = 50\n",
        "num_generations = 2000\n",
        "\n",
        "fitness_g = []\n",
        "new_population = init_pop(sol_per_pop)\n",
        "num_parents_mating = sol_per_pop // 2\n",
        "\n",
        "for generation in range(num_generations):\n",
        "    \n",
        "    # Measuring the fitness of each chromosome in the population.\n",
        "    fitness = cal_fitness(new_population)\n",
        "\n",
        "    # Selecting the best parents in the population for mating.\n",
        "    parents = select_mating_pool(new_population, fitness, num_parents_mating)\n",
        "\n",
        "    # Generating next generation using crossover.\n",
        "    offspring_crossover = crossover(parents, offspring_size=sol_per_pop-len(parents))\n",
        "\n",
        "    # Adding some variations to the offsrping using mutation.\n",
        "    offspring_mutation = mutation(offspring_crossover)\n",
        "\n",
        "    # Creating the new population based on the parents and offspring.\n",
        "    new_population = parents + offspring_mutation\n",
        "\n",
        "    fitness_g.append(max(fitness))\n",
        "\n",
        "# Getting the best solution after iterating finishing all generations.\n",
        "fitness = cal_fitness(new_population)\n",
        "best_match_idx = np.where(fitness == np.max(fitness))[0][0]\n"
      ],
      "execution_count": 0,
      "outputs": []
    },
    {
      "cell_type": "code",
      "metadata": {
        "id": "DYrKx9uVAJhl",
        "colab_type": "code",
        "outputId": "4d70fde1-acef-4d33-c7f5-ebec691ea125",
        "colab": {
          "base_uri": "https://localhost:8080/",
          "height": 71
        }
      },
      "source": [
        "print('Fitness :', max(fitness))\n",
        "print('Constellation :', new_population[best_match_idx])"
      ],
      "execution_count": 0,
      "outputs": [
        {
          "output_type": "stream",
          "text": [
            "Fitness : 5.983333333333333\n",
            "Constellation : [frozenset({0, 5, 31}), frozenset({32, 30, 7}), frozenset({1, 3, 20}), frozenset({16, 12, 21}), frozenset({33, 19, 14}), frozenset({9, 10, 18}), frozenset({17, 27, 13}), frozenset({26, 34, 29}), frozenset({2, 23, 15}), frozenset({26, 34, 6}), frozenset({24, 25, 11}), frozenset({8, 4, 28})]\n"
          ],
          "name": "stdout"
        }
      ]
    },
    {
      "cell_type": "code",
      "metadata": {
        "id": "njXfr80IAJfH",
        "colab_type": "code",
        "outputId": "58b2d78a-f16b-4b19-9f4f-75bebf58aaf7",
        "colab": {
          "base_uri": "https://localhost:8080/",
          "height": 282
        }
      },
      "source": [
        "import matplotlib.pyplot as plt\n",
        "\n",
        "plt.plot(fitness_g)"
      ],
      "execution_count": 0,
      "outputs": [
        {
          "output_type": "execute_result",
          "data": {
            "text/plain": [
              "[<matplotlib.lines.Line2D at 0x7f8e4ce4ea58>]"
            ]
          },
          "metadata": {
            "tags": []
          },
          "execution_count": 35
        },
        {
          "output_type": "display_data",
          "data": {
            "image/png": "[encoded data removed]",
            "text/plain": [
              "<Figure size 432x288 with 1 Axes>"
            ]
          },
          "metadata": {
            "tags": [],
            "needs_background": "light"
          }
        }
      ]
    },
    {
      "cell_type": "markdown",
      "metadata": {
        "id": "0_9-m3WXNYTh",
        "colab_type": "text"
      },
      "source": [
        "### Quantum Annealing"
      ]
    },
    {
      "cell_type": "code",
      "metadata": {
        "id": "XqzhStbzpks2",
        "colab_type": "code",
        "outputId": "71aff7a0-2000-46b4-d28f-fd93f92ccd52",
        "colab": {
          "base_uri": "https://localhost:8080/",
          "height": 71
        }
      },
      "source": [
        "s = set()\n",
        "for con in new_population:\n",
        "    for subcon in con:    \n",
        "      s.add(subcon)\n",
        "\n",
        "subcons = {i:subconstellations[i] for i in list(s)}\n",
        "# print(subcons)\n",
        "# print(len(subcons))"
      ],
      "execution_count": 0,
      "outputs": [
        {
          "output_type": "stream",
          "text": [
            "{frozenset({8, 32, 7}): 0.62, frozenset({32, 30, 7}): 0.5166666666666667, frozenset({25, 11, 4}): 0.6066666666666666, frozenset({25, 18, 19}): 0.84, frozenset({26, 34, 29}): 0.66, frozenset({26, 34, 6}): 0.62, frozenset({8, 4, 28}): 0.49333333333333335, frozenset({33, 26, 30}): 0.49, frozenset({27, 3, 15}): 0.47, frozenset({32, 6, 22}): 0.6766666666666667, frozenset({8, 19, 7}): 0.6833333333333332, frozenset({33, 28, 14}): 0.8366666666666666, frozenset({16, 11, 5}): 0.4166666666666667, frozenset({2, 23, 15}): 0.4666666666666666, frozenset({19, 3, 23}): 0.5, frozenset({25, 6, 33}): 0.8166666666666668, frozenset({33, 18, 7}): 0.8133333333333334, frozenset({27, 20, 13}): 0.62, frozenset({33, 18, 26}): 0.7266666666666666, frozenset({0, 26, 3}): 0.49666666666666665, frozenset({3, 20, 28}): 0.6, frozenset({25, 11, 14}): 0.7399999999999999, frozenset({9, 19, 33}): 0.9466666666666667, frozenset({0, 4, 5}): 0.49666666666666676, frozenset({16, 12, 21}): 0.5033333333333333, frozenset({1, 3, 20}): 0.4166666666666667, frozenset({9, 10, 18}): 0.7200000000000001, frozenset({9, 3, 12}): 0.48666666666666664, frozenset({8, 29, 15}): 0.58, frozenset({16, 25, 23}): 0.48, frozenset({0, 32, 22}): 0.7633333333333333, frozenset({9, 18, 23}): 0.71, frozenset({1, 20, 28}): 0.7133333333333333, frozenset({17, 27, 13}): 0.4566666666666666, frozenset({0, 5, 31}): 0.6333333333333333, frozenset({11, 3, 28}): 0.5933333333333334, frozenset({24, 25, 11}): 0.6566666666666666, frozenset({20, 12, 13}): 0.54, frozenset({0, 1, 31}): 0.6466666666666666, frozenset({0, 25, 31}): 0.7933333333333333, frozenset({26, 19, 13}): 0.61, frozenset({32, 28, 7}): 0.8300000000000001, frozenset({33, 19, 14}): 0.8399999999999999, frozenset({16, 28, 21}): 0.6633333333333333, frozenset({17, 13, 15}): 0.43333333333333335, frozenset({34, 27, 6}): 0.6866666666666666, frozenset({18, 23, 15}): 0.6133333333333333, frozenset({9, 29, 22}): 0.77, frozenset({4, 29, 15}): 0.5433333333333333, frozenset({12, 21, 22}): 0.6633333333333334, frozenset({17, 27, 6}): 0.5566666666666666, frozenset({8, 28, 21}): 0.73, frozenset({8, 2, 28}): 0.5166666666666667, frozenset({31, 22, 23}): 0.5666666666666668, frozenset({27, 6, 22}): 0.6566666666666666, frozenset({0, 2, 31}): 0.6066666666666668, frozenset({17, 26, 15}): 0.48333333333333334, frozenset({5, 14, 31}): 0.5299999999999999, frozenset({32, 5, 6}): 0.5966666666666667, frozenset({11, 22, 23}): 0.6166666666666667, frozenset({13, 18, 5}): 0.48, frozenset({32, 11, 22}): 0.7133333333333334, frozenset({17, 6, 22}): 0.52}\n",
            "63\n"
          ],
          "name": "stdout"
        }
      ]
    },
    {
      "cell_type": "code",
      "metadata": {
        "id": "-ac4olzXcUd6",
        "colab_type": "code",
        "colab": {}
      },
      "source": [
        "import random\n",
        "import dimod\n",
        "import neal\n",
        "import networkx as nx"
      ],
      "execution_count": 0,
      "outputs": []
    },
    {
      "cell_type": "code",
      "metadata": {
        "id": "Qy0Iem4MNygQ",
        "colab_type": "code",
        "colab": {}
      },
      "source": [
        "bqm = dimod.BinaryQuadraticModel.empty(dimod.BINARY)\n",
        "bqm.add_variables_from(subcons)    "
      ],
      "execution_count": 0,
      "outputs": []
    },
    {
      "cell_type": "code",
      "metadata": {
        "id": "OVdhHGdAlsQ8",
        "colab_type": "code",
        "colab": {}
      },
      "source": [
        "for c0, c1 in itertools.combinations(bqm.variables, 2):\n",
        "    if c0.isdisjoint(c1):\n",
        "        continue\n",
        "    bqm.add_interaction(c0, c1, 2)"
      ],
      "execution_count": 0,
      "outputs": []
    },
    {
      "cell_type": "code",
      "metadata": {
        "id": "r0AgXV5rlvqE",
        "colab_type": "code",
        "colab": {}
      },
      "source": [
        "# choosing num_constellations variables \n",
        "bqm.update(dimod.generators.combinations(bqm, k))"
      ],
      "execution_count": 0,
      "outputs": []
    },
    {
      "cell_type": "code",
      "metadata": {
        "id": "rLtpH7d7YadW",
        "colab_type": "code",
        "colab": {}
      },
      "source": [
        "# sample from the bqm using simulated annealing\n",
        "sampleset = neal.Neal().sample(bqm, num_reads=100).aggregate()\n",
        "\n",
        "constellations = [constellation\n",
        "                  for constellation, chosen in sampleset.first.sample.items()\n",
        "                  if chosen]"
      ],
      "execution_count": 0,
      "outputs": []
    },
    {
      "cell_type": "code",
      "metadata": {
        "id": "7EMss043NflA",
        "colab_type": "code",
        "outputId": "1b9e689e-3a2e-4027-e3c6-9b3defc1c8a6",
        "colab": {
          "base_uri": "https://localhost:8080/",
          "height": 71
        }
      },
      "source": [
        "print('Energy : ', sampleset.first.energy)\n",
        "print('Constellation : ', constellations)"
      ],
      "execution_count": 0,
      "outputs": [
        {
          "output_type": "stream",
          "text": [
            "Energy :  5.3799999999999955\n",
            "Constellation :  [frozenset({32, 30, 7}), frozenset({26, 34, 6}), frozenset({8, 4, 28}), frozenset({2, 23, 15}), frozenset({16, 12, 21}), frozenset({1, 3, 20}), frozenset({9, 10, 18}), frozenset({17, 27, 13}), frozenset({24, 25, 11}), frozenset({5, 14, 31})]\n"
          ],
          "name": "stdout"
        }
      ]
    }
  ]
}