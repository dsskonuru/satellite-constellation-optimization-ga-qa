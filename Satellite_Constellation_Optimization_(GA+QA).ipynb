{
  "nbformat": 4,
  "nbformat_minor": 0,
  "metadata": {
    "colab": {
      "name": "Satellite Constellation Optimization (GA+QA).ipynb",
      "provenance": [],
      "collapsed_sections": [],
      "machine_shape": "hm",
      "authorship_tag": "ABX9TyMJ40I3rm7iVfyQ8YvfqrHy",
      "include_colab_link": true
    },
    "kernelspec": {
      "name": "python3",
      "display_name": "Python 3"
    }
  },
  "cells": [
    {
      "cell_type": "markdown",
      "metadata": {
        "id": "view-in-github",
        "colab_type": "text"
      },
      "source": [
        "<a href=\"https://colab.research.google.com/github/dsskonuru/satellite-constellation-optimization-ga-qa/blob/master/Satellite_Constellation_Optimization_(GA%2BQA).ipynb\" target=\"_parent\"><img src=\"https://colab.research.google.com/assets/colab-badge.svg\" alt=\"Open In Colab\"/></a>"
      ]
    },
    {
      "cell_type": "code",
      "metadata": {
        "id": "h7ViiJiaNwOc",
        "colab_type": "code",
        "outputId": "e11db488-b647-4fcc-f9c6-1439760a84b8",
        "colab": {
          "base_uri": "https://localhost:8080/",
          "height": 315
        }
      },
      "source": [
        "!pip install dimod\n",
        "!pip install networkx \n",
        "!pip install dwave-neal"
      ],
      "execution_count": 1,
      "outputs": [
        {
          "output_type": "stream",
          "text": [
            "Collecting dimod\n",
            "\u001b[?25l  Downloading https://files.pythonhosted.org/packages/3c/b8/4810e966bb986c167142405b90cc7d35bdb16de54713f1f7fb00822c1119/dimod-0.9.2-cp36-cp36m-manylinux1_x86_64.whl (4.8MB)\n",
            "\u001b[K     |████████████████████████████████| 4.8MB 2.8MB/s \n",
            "\u001b[?25hRequirement already satisfied: numpy<2.0.0,>=1.16.0 in /usr/local/lib/python3.6/dist-packages (from dimod) (1.18.4)\n",
            "Installing collected packages: dimod\n",
            "Successfully installed dimod-0.9.2\n",
            "Requirement already satisfied: networkx in /usr/local/lib/python3.6/dist-packages (2.4)\n",
            "Requirement already satisfied: decorator>=4.3.0 in /usr/local/lib/python3.6/dist-packages (from networkx) (4.4.2)\n",
            "Collecting dwave-neal\n",
            "\u001b[?25l  Downloading https://files.pythonhosted.org/packages/c6/14/964a6a7aff39d97fbcb9ff82a4525a484d301468048a706be3dcc5be64ca/dwave_neal-0.5.4-cp36-cp36m-manylinux1_x86_64.whl (390kB)\n",
            "\u001b[K     |████████████████████████████████| 399kB 2.8MB/s \n",
            "\u001b[?25hRequirement already satisfied: six<2.0.0,>=1.11.0 in /usr/local/lib/python3.6/dist-packages (from dwave-neal) (1.12.0)\n",
            "Requirement already satisfied: numpy<2.0.0,>=1.14.0 in /usr/local/lib/python3.6/dist-packages (from dwave-neal) (1.18.4)\n",
            "Requirement already satisfied: dimod>=0.7.7 in /usr/local/lib/python3.6/dist-packages (from dwave-neal) (0.9.2)\n",
            "Installing collected packages: dwave-neal\n",
            "Successfully installed dwave-neal-0.5.4\n"
          ],
          "name": "stdout"
        }
      ]
    },
    {
      "cell_type": "markdown",
      "metadata": {
        "id": "-kgOeH_lV_iB",
        "colab_type": "text"
      },
      "source": [
        ">$\\text{Ising:} \\qquad  E(\\bf{s}|\\bf{h},\\bf{J})\n",
        "= \\left\\{ \\sum_{i=1}^N h_i s_i + \\sum_{i<j}^N J_{i,j} s_i s_j  \\right\\}$\n",
        "\n",
        ">$\\small E \\quad {\\longrightarrow} \\quad Objective \\; function \\; (to \\; be \\; minimized) \n",
        "\\\\ \\small s_i \\quad {\\longrightarrow} \\quad Subconstellation \n",
        "\\\\ \\small h_i \\quad {\\longrightarrow} \\quad Coverage \\; of \\; the \\; subconstellation\n",
        "\\\\ \\small J_{i,j} \\quad {\\longrightarrow} \\quad Penality \\; for \\; pairs \\; having \\; a \\; satellite \\; in \\; common$"
      ]
    },
    {
      "cell_type": "code",
      "metadata": {
        "id": "7BtJ36FN2Nh-",
        "colab_type": "code",
        "colab": {}
      },
      "source": [
        "import numpy as np\n",
        "import matplotlib.pyplot as plt\n",
        "import itertools\n",
        "import networkx as nx\n",
        "\n",
        "import dimod\n",
        "import neal"
      ],
      "execution_count": 0,
      "outputs": []
    },
    {
      "cell_type": "markdown",
      "metadata": {
        "id": "bIfQnA_BFGC3",
        "colab_type": "text"
      },
      "source": [
        "### Complexity of the problem"
      ]
    },
    {
      "cell_type": "markdown",
      "metadata": {
        "id": "z_qNqwKQm9T7",
        "colab_type": "text"
      },
      "source": [
        "Suppose you have a set of ``N`` satellites and ``k`` targets on Earth that you\n",
        "want to observe. Each of your satellites has varying capabilities for Earth\n",
        "observation; in particular, the amount of ground that they can observe for a\n",
        "set amount of time is different. Since there are ``k`` targets, you would like\n",
        "to have ``k`` constellations to monitor said targets. \n",
        "\n",
        "Note: We are assuming that ``N`` is a multiple of ``k``."
      ]
    },
    {
      "cell_type": "code",
      "metadata": {
        "id": "s9x4cMuqF6mw",
        "colab_type": "code",
        "colab": {}
      },
      "source": [
        "N = 12\n",
        "k = 4 # number of targets\n",
        "\n",
        "subconstellation_size = N // k  # satellites per constellation"
      ],
      "execution_count": 0,
      "outputs": []
    },
    {
      "cell_type": "markdown",
      "metadata": {
        "id": "eiRaFJ9neMqc",
        "colab_type": "text"
      },
      "source": [
        "Each of the 12 satellites (labelled 0-11) has a coverage score. This could be calculated as the percentage of time  that the Earth region is in range of the satellite. We are assuming a random value in this case, this can be replaced by real values in a particular application."
      ]
    },
    {
      "cell_type": "code",
      "metadata": {
        "id": "kZ3VdUrQIkLq",
        "colab_type": "code",
        "outputId": "d7f8e28c-a18c-4e3b-a2a1-a3b33362ed1c",
        "colab": {
          "base_uri": "https://localhost:8080/",
          "height": 34
        }
      },
      "source": [
        "coverage = {}\n",
        "for i in range(N):\n",
        "  np.random.seed(i)\n",
        "  coverage[i] = np.random.randint(0, 100)/100\n",
        "print(coverage)"
      ],
      "execution_count": 105,
      "outputs": [
        {
          "output_type": "stream",
          "text": [
            "{0: 0.44, 1: 0.37, 2: 0.4, 3: 0.24, 4: 0.46, 5: 0.99, 6: 0.1, 7: 0.47, 8: 0.67, 9: 0.92, 10: 0.09, 11: 0.25}\n"
          ],
          "name": "stdout"
        }
      ]
    },
    {
      "cell_type": "code",
      "metadata": {
        "id": "h-PDBnozJA36",
        "colab_type": "code",
        "outputId": "f3520435-6275-4ac7-f80a-f121a3565805",
        "colab": {
          "base_uri": "https://localhost:8080/",
          "height": 279
        }
      },
      "source": [
        "score_threshold = 0.5\n",
        "lists = sorted(coverage.items()) # sorted by key, return a list of tuples\n",
        "x, y = zip(*lists) # unpack a list of pairs into two tuples\n",
        "plt.xlabel(\"Satellite #\")\n",
        "plt.ylabel(\"Coverage\")\n",
        "plt.hlines(score_threshold, 0, N, linestyles='dashed', colors='r')\n",
        "plt.bar(x, y, align='edge')\n",
        "plt.show()"
      ],
      "execution_count": 29,
      "outputs": [
        {
          "output_type": "display_data",
          "data": {
            "image/png": "[encoded data removed]",
            "text/plain": [
              "<Figure size 432x288 with 1 Axes>"
            ]
          },
          "metadata": {
            "tags": [],
            "needs_background": "light"
          }
        }
      ]
    },
    {
      "cell_type": "code",
      "metadata": {
        "id": "FPxBpGmbEnAw",
        "colab_type": "code",
        "colab": {
          "base_uri": "https://localhost:8080/",
          "height": 34
        },
        "outputId": "1ce33c25-1bf1-4357-fffe-06d250ee3816"
      },
      "source": [
        "import math\n",
        "\n",
        "def nCr(n,r):\n",
        "    f = math.factorial\n",
        "    return f(n) / f(r) / f(n-r)\n",
        "\n",
        "print('# possible subconstellations: ', nCr(12,3))"
      ],
      "execution_count": 103,
      "outputs": [
        {
          "output_type": "stream",
          "text": [
            "# possible subconstellations:  220.0\n"
          ],
          "name": "stdout"
        }
      ]
    },
    {
      "cell_type": "code",
      "metadata": {
        "id": "jeqpVi32G6_V",
        "colab_type": "code",
        "colab": {}
      },
      "source": [
        "import itertools\n",
        "\n",
        "subconstellations = {} # create dict of subconstellations and its coverage\n",
        "\n",
        "for subconstellation in itertools.combinations(range(N), N//k):\n",
        "    score = sum(coverage[v] for v in subconstellation) / subconstellation_size\n",
        "\n",
        "    if score < score_threshold:\n",
        "        continue\n",
        "\n",
        "    subconstellations[subconstellation] = score"
      ],
      "execution_count": 0,
      "outputs": []
    },
    {
      "cell_type": "markdown",
      "metadata": {
        "id": "bv70plghgr7Y",
        "colab_type": "text"
      },
      "source": [
        "The ``score_threshold`` is used to determine bad constellations. Constellations with coverage less than this value is not considered. It is assigned an arbitrarily picked number i.e `0.4`. "
      ]
    },
    {
      "cell_type": "code",
      "metadata": {
        "id": "dvvzrrAE53Vf",
        "colab_type": "code",
        "colab": {
          "base_uri": "https://localhost:8080/",
          "height": 34
        },
        "outputId": "873528e7-3f13-4467-d5f1-131377aca418"
      },
      "source": [
        "print('# subconstellations after search space pruning: ',len(subconstellations))"
      ],
      "execution_count": 107,
      "outputs": [
        {
          "output_type": "stream",
          "text": [
            "# subconstellations after search space pruning:  134\n"
          ],
          "name": "stdout"
        }
      ]
    },
    {
      "cell_type": "code",
      "metadata": {
        "id": "bGQIcKHKFLJG",
        "colab_type": "code",
        "colab": {}
      },
      "source": [
        "import networkx as nx\n",
        "\n",
        "G = nx.Graph()\n",
        "G.add_nodes_from(list(subconstellations.items()))\n",
        "\n",
        "for c0, c1 in itertools.combinations(list(subconstellations.keys()), 2):\n",
        "    if set(c0).isdisjoint(set(c1)):\n",
        "        G.add_edge(c0,c1)"
      ],
      "execution_count": 0,
      "outputs": []
    },
    {
      "cell_type": "code",
      "metadata": {
        "id": "O0wZ7ynGFuMM",
        "colab_type": "code",
        "outputId": "0252c95a-f58d-464a-b8bb-12b071990e0d",
        "colab": {
          "base_uri": "https://localhost:8080/",
          "height": 319
        }
      },
      "source": [
        "nx.draw(G)"
      ],
      "execution_count": 33,
      "outputs": [
        {
          "output_type": "display_data",
          "data": {
            "image/png": "[encoded data removed]",
            "text/plain": [
              "<Figure size 432x288 with 1 Axes>"
            ]
          },
          "metadata": {
            "tags": []
          }
        }
      ]
    },
    {
      "cell_type": "markdown",
      "metadata": {
        "id": "_5jUXeKhIrCB",
        "colab_type": "text"
      },
      "source": [
        "### Formulating the problem\n"
      ]
    },
    {
      "cell_type": "code",
      "metadata": {
        "id": "JnFcCgU3bqIg",
        "colab_type": "code",
        "colab": {}
      },
      "source": [
        "N = 30\n",
        "k = 6 # number of targets\n",
        "\n",
        "subconstellation_size = N // k  # satellites per constellation"
      ],
      "execution_count": 0,
      "outputs": []
    },
    {
      "cell_type": "code",
      "metadata": {
        "id": "WyJQnYPTc3Hp",
        "colab_type": "code",
        "outputId": "e8566e4f-d284-4092-f708-9e7a6849e9e7",
        "colab": {
          "base_uri": "https://localhost:8080/",
          "height": 54
        }
      },
      "source": [
        "coverage = {}\n",
        "for i in range(N):\n",
        "  np.random.seed(i**2)\n",
        "  coverage[i] = np.random.randint(0, 100)/100\n",
        "print(coverage)\n",
        "\n",
        "score_threshold = 0.4"
      ],
      "execution_count": 79,
      "outputs": [
        {
          "output_type": "stream",
          "text": [
            "{0: 0.44, 1: 0.37, 2: 0.46, 3: 0.92, 4: 0.41, 5: 0.04, 6: 0.05, 7: 0.42, 8: 0.68, 9: 0.67, 10: 0.08, 11: 0.66, 12: 0.6, 13: 0.35, 14: 0.28, 15: 0.35, 16: 0.32, 17: 0.47, 18: 0.25, 19: 0.83, 20: 0.92, 21: 0.13, 22: 0.31, 23: 0.09, 24: 0.19, 25: 0.51, 26: 0.52, 27: 0.22, 28: 0.21, 29: 0.36}\n"
          ],
          "name": "stdout"
        }
      ]
    },
    {
      "cell_type": "code",
      "metadata": {
        "id": "8KBpXzrwgN3f",
        "colab_type": "code",
        "outputId": "51fa9687-0016-42c6-e4b9-25e34c447e2a",
        "colab": {
          "base_uri": "https://localhost:8080/",
          "height": 279
        }
      },
      "source": [
        "lists = sorted(coverage.items()) # sorted by key, return a list of tuples\n",
        "x, y = zip(*lists) # unpack a list of pairs into two tuples\n",
        "plt.xlabel(\"Satellite #\")\n",
        "plt.ylabel(\"Coverage\")\n",
        "plt.hlines(score_threshold, 0, N, linestyles='dashed', colors='r')\n",
        "plt.bar(x, y, align='edge')\n",
        "plt.show()"
      ],
      "execution_count": 80,
      "outputs": [
        {
          "output_type": "display_data",
          "data": {
            "image/png": "[encoded data removed]",
            "text/plain": [
              "<Figure size 432x288 with 1 Axes>"
            ]
          },
          "metadata": {
            "tags": [],
            "needs_background": "light"
          }
        }
      ]
    },
    {
      "cell_type": "code",
      "metadata": {
        "id": "HuF1phUuCkvG",
        "colab_type": "code",
        "colab": {
          "base_uri": "https://localhost:8080/",
          "height": 34
        },
        "outputId": "95dddcf5-54c2-4047-f80a-1a6e9bceeb62"
      },
      "source": [
        "import math\n",
        "\n",
        "def nCr(n,r):\n",
        "    f = math.factorial\n",
        "    return f(n) / f(r) / f(n-r)\n",
        "\n",
        "print('# possible subconstellations: ', nCr(30,5))"
      ],
      "execution_count": 100,
      "outputs": [
        {
          "output_type": "stream",
          "text": [
            "# possible subconstellations:  142506.0\n"
          ],
          "name": "stdout"
        }
      ]
    },
    {
      "cell_type": "code",
      "metadata": {
        "id": "ojJpAl7h_7VC",
        "colab_type": "code",
        "outputId": "c5adfea3-1986-4a1d-8a77-ddb07d4de11e",
        "colab": {
          "base_uri": "https://localhost:8080/",
          "height": 34
        }
      },
      "source": [
        "subconstellations = {} # create dict of subconstellations and its coverage\n",
        "\n",
        "for subconstellation in itertools.combinations(range(N), N//k):\n",
        "    score = sum(coverage[v] for v in subconstellation) / subconstellation_size\n",
        "\n",
        "    if score < score_threshold:\n",
        "        continue\n",
        "\n",
        "    subconstellations[frozenset(subconstellation)] = score\n",
        "\n",
        "print('# subconstellations after search space pruning: ',len(subconstellations))"
      ],
      "execution_count": 101,
      "outputs": [
        {
          "output_type": "stream",
          "text": [
            "# subconstellations after search space pruning:  71972\n"
          ],
          "name": "stdout"
        }
      ]
    },
    {
      "cell_type": "markdown",
      "metadata": {
        "id": "HBw65fnTMnjU",
        "colab_type": "text"
      },
      "source": [
        "### Genetic Algorithm"
      ]
    },
    {
      "cell_type": "code",
      "metadata": {
        "id": "mfm4ycqEACeI",
        "colab_type": "code",
        "colab": {}
      },
      "source": [
        "def init_pop(sol_per_pop):\n",
        "  population = []\n",
        "  for i in range(sol_per_pop):\n",
        "    constellation = [np.random.choice(list(subconstellations.keys())) for j in range(k)]\n",
        "    population.append(constellation)\n",
        "  return population"
      ],
      "execution_count": 0,
      "outputs": []
    },
    {
      "cell_type": "code",
      "metadata": {
        "id": "2rrSXdB8_7Mj",
        "colab_type": "code",
        "colab": {}
      },
      "source": [
        "def cal_fitness(population):\n",
        "  fitness = []\n",
        "\n",
        "  for con in population:\n",
        "    coverage = sum([subconstellations[subcon] for subcon in con])\n",
        "\n",
        "    # penalty multiple subcons sharing the same satellite\n",
        "    for a, b in itertools.combinations(con, 2): \n",
        "      if not a.isdisjoint(b):\n",
        "        coverage-=1\n",
        "\n",
        "    fitness.append(coverage)\n",
        "      \n",
        "  return fitness"
      ],
      "execution_count": 0,
      "outputs": []
    },
    {
      "cell_type": "code",
      "metadata": {
        "id": "4mIZyOlm_7CP",
        "colab_type": "code",
        "colab": {}
      },
      "source": [
        "def select_mating_pool(population, fitness, num_parents):\n",
        "    # Selecting the best individuals in the current generation as parents for producing the offspring of the next generation.\n",
        "    parents = []\n",
        "    for parent_num in range(num_parents):\n",
        "        max_fitness_idx = fitness.index(max(fitness))\n",
        "        parents.append(population[max_fitness_idx])\n",
        "        fitness[max_fitness_idx] = -999\n",
        "    return parents"
      ],
      "execution_count": 0,
      "outputs": []
    },
    {
      "cell_type": "code",
      "metadata": {
        "id": "IheNmrMiAJpb",
        "colab_type": "code",
        "colab": {}
      },
      "source": [
        "def crossover(parents, offspring_size):\n",
        "    offsprings = []\n",
        "    # The point at which crossover takes place between two parents. Usually it is at the center.\n",
        "    crossover_point = np.random.randint(k)\n",
        "\n",
        "    for i in range(offspring_size):\n",
        "        # Index of the first parent to mate.\n",
        "        parent1_idx = i%len(parents)\n",
        "        # Index of the second parent to mate.\n",
        "        parent2_idx = (i+1)%len(parents)\n",
        "        offspring = parents[parent1_idx][:crossover_point]+parents[parent2_idx][crossover_point:]\n",
        "        offsprings.append(offspring)\n",
        "\n",
        "    return offsprings"
      ],
      "execution_count": 0,
      "outputs": []
    },
    {
      "cell_type": "code",
      "metadata": {
        "id": "qobkEMrqAJnh",
        "colab_type": "code",
        "colab": {}
      },
      "source": [
        "def mutation(offspring_crossover):\n",
        "    # Mutation changes a single gene in each offspring randomly.\n",
        "    for idx in range(len(offspring_crossover)):\n",
        "        # The random value to be added to the gene.\n",
        "        random_idx = np.random.randint(N*k)\n",
        "        random_value = np.random.choice(list(subconstellations.keys()))\n",
        "        offspring_crossover[idx] = offspring_crossover[idx][:random_idx] + [random_value] + offspring_crossover[idx][random_idx+1:]\n",
        "    return offspring_crossover"
      ],
      "execution_count": 0,
      "outputs": []
    },
    {
      "cell_type": "code",
      "metadata": {
        "id": "V344ZW63AJjv",
        "colab_type": "code",
        "colab": {}
      },
      "source": [
        "sol_per_pop = 50\n",
        "num_generations = 2000\n",
        "\n",
        "fitness_g = []\n",
        "new_population = init_pop(sol_per_pop)\n",
        "num_parents_mating = sol_per_pop // 2\n",
        "\n",
        "for generation in range(num_generations):\n",
        "    \n",
        "    # Measuring the fitness of each chromosome in the population.\n",
        "    fitness = cal_fitness(new_population)\n",
        "\n",
        "    # Selecting the best parents in the population for mating.\n",
        "    parents = select_mating_pool(new_population, fitness, num_parents_mating)\n",
        "\n",
        "    # Generating next generation using crossover.\n",
        "    offspring_crossover = crossover(parents, offspring_size=sol_per_pop-len(parents))\n",
        "\n",
        "    # Adding some variations to the offsrping using mutation.\n",
        "    offspring_mutation = mutation(offspring_crossover)\n",
        "\n",
        "    # Creating the new population based on the parents and offspring.\n",
        "    new_population = parents + offspring_mutation\n",
        "\n",
        "    fitness_g.append(max(fitness))\n",
        "\n",
        "# Getting the best solution after iterating finishing all generations.\n",
        "fitness = cal_fitness(new_population)\n",
        "best_match_idx = np.where(fitness == np.max(fitness))[0][0]\n"
      ],
      "execution_count": 0,
      "outputs": []
    },
    {
      "cell_type": "code",
      "metadata": {
        "id": "DYrKx9uVAJhl",
        "colab_type": "code",
        "outputId": "dff0f4b1-24f2-4a02-fe65-759250379cbb",
        "colab": {
          "base_uri": "https://localhost:8080/",
          "height": 72
        }
      },
      "source": [
        "print('Coverage :', max(fitness))\n",
        "print('Constellation :', new_population[best_match_idx])"
      ],
      "execution_count": 83,
      "outputs": [
        {
          "output_type": "stream",
          "text": [
            "Coverage : 1.004\n",
            "Constellation : [frozenset({0, 10, 15, 20, 28}), frozenset({2, 3, 11, 21, 23}), frozenset({0, 1, 10, 15, 20}), frozenset({4, 5, 14, 19, 25}), frozenset({7, 12, 17, 18, 26}), frozenset({8, 9, 13, 16, 24}), frozenset({6, 7, 12, 17, 26})]\n"
          ],
          "name": "stdout"
        }
      ]
    },
    {
      "cell_type": "code",
      "metadata": {
        "id": "njXfr80IAJfH",
        "colab_type": "code",
        "outputId": "e1b52e9a-7bea-47f8-a1b3-50910db73fd7",
        "colab": {
          "base_uri": "https://localhost:8080/",
          "height": 282
        }
      },
      "source": [
        "import matplotlib.pyplot as plt\n",
        "\n",
        "plt.plot(fitness_g)"
      ],
      "execution_count": 84,
      "outputs": [
        {
          "output_type": "execute_result",
          "data": {
            "text/plain": [
              "[<matplotlib.lines.Line2D at 0x7fc7462e44e0>]"
            ]
          },
          "metadata": {
            "tags": []
          },
          "execution_count": 84
        },
        {
          "output_type": "display_data",
          "data": {
            "image/png": "[encoded data removed]",
            "text/plain": [
              "<Figure size 432x288 with 1 Axes>"
            ]
          },
          "metadata": {
            "tags": [],
            "needs_background": "light"
          }
        }
      ]
    },
    {
      "cell_type": "markdown",
      "metadata": {
        "id": "0_9-m3WXNYTh",
        "colab_type": "text"
      },
      "source": [
        "### Quantum Annealing"
      ]
    },
    {
      "cell_type": "code",
      "metadata": {
        "id": "XqzhStbzpks2",
        "colab_type": "code",
        "colab": {}
      },
      "source": [
        "s = set()\n",
        "for con in new_population:\n",
        "    for subcon in con:    \n",
        "      s.add(subcon)\n",
        "\n",
        "subcons = {i:subconstellations[i] for i in list(s)}"
      ],
      "execution_count": 0,
      "outputs": []
    },
    {
      "cell_type": "code",
      "metadata": {
        "id": "OR6N5mO35_Gj",
        "colab_type": "code",
        "outputId": "1f3fbd40-cede-4348-c668-c2a9a7db7495",
        "colab": {
          "base_uri": "https://localhost:8080/",
          "height": 34
        }
      },
      "source": [
        "len(subcons)"
      ],
      "execution_count": 86,
      "outputs": [
        {
          "output_type": "execute_result",
          "data": {
            "text/plain": [
              "56"
            ]
          },
          "metadata": {
            "tags": []
          },
          "execution_count": 86
        }
      ]
    },
    {
      "cell_type": "code",
      "metadata": {
        "id": "Qy0Iem4MNygQ",
        "colab_type": "code",
        "colab": {}
      },
      "source": [
        "bqm = dimod.BinaryQuadraticModel.empty(dimod.BINARY)\n",
        "bqm.add_variables_from(subcons)    "
      ],
      "execution_count": 0,
      "outputs": []
    },
    {
      "cell_type": "code",
      "metadata": {
        "id": "OVdhHGdAlsQ8",
        "colab_type": "code",
        "colab": {}
      },
      "source": [
        "for c0, c1 in itertools.combinations(bqm.variables, 2):\n",
        "    if c0.isdisjoint(c1):\n",
        "        continue\n",
        "    bqm.add_interaction(c0, c1, 2)"
      ],
      "execution_count": 0,
      "outputs": []
    },
    {
      "cell_type": "code",
      "metadata": {
        "id": "r0AgXV5rlvqE",
        "colab_type": "code",
        "colab": {}
      },
      "source": [
        "# choosing num_constellations variables \n",
        "bqm.update(dimod.generators.combinations(bqm, k))"
      ],
      "execution_count": 0,
      "outputs": []
    },
    {
      "cell_type": "code",
      "metadata": {
        "id": "rLtpH7d7YadW",
        "colab_type": "code",
        "colab": {}
      },
      "source": [
        "# sample from the bqm using simulated annealing\n",
        "sampleset = neal.Neal().sample(bqm, num_reads=100).aggregate()\n",
        "\n",
        "constellations = [constellation\n",
        "                  for constellation, chosen in sampleset.first.sample.items()\n",
        "                  if chosen]"
      ],
      "execution_count": 0,
      "outputs": []
    },
    {
      "cell_type": "code",
      "metadata": {
        "id": "7EMss043NflA",
        "colab_type": "code",
        "outputId": "65e3b357-2735-460d-a0a7-9979ef906b4a",
        "colab": {
          "base_uri": "https://localhost:8080/",
          "height": 72
        }
      },
      "source": [
        "print('Coverage : ', sampleset.first.energy)\n",
        "print('Constellation : ', constellations)"
      ],
      "execution_count": 91,
      "outputs": [
        {
          "output_type": "stream",
          "text": [
            "Coverage :  3.102000000000544\n",
            "Constellation :  [frozenset({6, 7, 12, 17, 26}), frozenset({4, 5, 14, 19, 25}), frozenset({1, 20, 22, 28, 29}), frozenset({0, 2, 11, 15, 23}), frozenset({8, 9, 13, 16, 24})]\n"
          ],
          "name": "stdout"
        }
      ]
    }
  ]
}