{
  "nbformat": 4,
  "nbformat_minor": 0,
  "metadata": {
    "colab": {
      "name": "Satellite Constellation Optimization (GA+QA).ipynb",
      "provenance": [],
      "collapsed_sections": [],
      "machine_shape": "hm",
      "authorship_tag": "ABX9TyP05Q4GiZe/hJZjSaX2Khol",
      "include_colab_link": true
    },
    "kernelspec": {
      "name": "python3",
      "display_name": "Python 3"
    },
    "accelerator": "GPU"
  },
  "cells": [
    {
      "cell_type": "markdown",
      "metadata": {
        "id": "view-in-github",
        "colab_type": "text"
      },
      "source": [
        "<a href=\"https://colab.research.google.com/github/dsskonuru/satellite-constellation-optimization-ga-qa/blob/master/Satellite_Constellation_Optimization_(GA%2BQA).ipynb\" target=\"_parent\"><img src=\"https://colab.research.google.com/assets/colab-badge.svg\" alt=\"Open In Colab\"/></a>"
      ]
    },
    {
      "cell_type": "code",
      "metadata": {
        "id": "h7ViiJiaNwOc",
        "colab_type": "code",
        "colab": {}
      },
      "source": [
        "!pip install dimod\n",
        "!pip install networkx \n",
        "!pip install dwave-neal"
      ],
      "execution_count": 0,
      "outputs": []
    },
    {
      "cell_type": "markdown",
      "metadata": {
        "id": "-kgOeH_lV_iB",
        "colab_type": "text"
      },
      "source": [
        ">$\\text{Ising:} \\qquad  E(\\bf{s}|\\bf{h},\\bf{J})\n",
        "= \\left\\{ \\sum_{i=1}^N h_i s_i + \\sum_{i<j}^N J_{i,j} s_i s_j  \\right\\}$\n",
        "\n",
        ">$\\small E \\quad {\\longrightarrow} \\quad Objective \\; function \\; (to \\; be \\; minimized) \n",
        "\\\\ \\small s_i \\quad {\\longrightarrow} \\quad Subconstellation \n",
        "\\\\ \\small h_i \\quad {\\longrightarrow} \\quad Coverage \\; of \\; the \\; subconstellation\n",
        "\\\\ \\small J_{i,j} \\quad {\\longrightarrow} \\quad Penality \\; for \\; pairs \\; having \\; a \\; satellite \\; in \\; common$"
      ]
    },
    {
      "cell_type": "markdown",
      "metadata": {
        "id": "bIfQnA_BFGC3",
        "colab_type": "text"
      },
      "source": [
        "### Complexity of the problem"
      ]
    },
    {
      "cell_type": "markdown",
      "metadata": {
        "id": "z_qNqwKQm9T7",
        "colab_type": "text"
      },
      "source": [
        "Suppose you have a set of ``N`` satellites and ``k`` targets on Earth that you\n",
        "want to observe. Each of your satellites has varying capabilities for Earth\n",
        "observation; in particular, the amount of ground that they can observe for a\n",
        "set amount of time is different. Since there are ``k`` targets, you would like\n",
        "to have ``k`` constellations to monitor said targets. \n",
        "\n",
        "Note: We are assuming that ``N`` is a multiple of ``k``."
      ]
    },
    {
      "cell_type": "code",
      "metadata": {
        "id": "s9x4cMuqF6mw",
        "colab_type": "code",
        "colab": {}
      },
      "source": [
        "N = 12\n",
        "k = 4 # number of targets\n",
        "\n",
        "subconstellation_size = N // k  # satellites per constellation"
      ],
      "execution_count": 0,
      "outputs": []
    },
    {
      "cell_type": "markdown",
      "metadata": {
        "id": "eiRaFJ9neMqc",
        "colab_type": "text"
      },
      "source": [
        "Each of the 12 satellites (labelled 0-11) has a coverage score. This could be calculated as the percentage of time  that the Earth region is in range of the satellite. We are assuming a random value in this case, this can be replaced by real values in a particular application."
      ]
    },
    {
      "cell_type": "code",
      "metadata": {
        "id": "kZ3VdUrQIkLq",
        "colab_type": "code",
        "outputId": "ea5b985f-f859-44dc-db69-a381a02f0edd",
        "colab": {
          "base_uri": "https://localhost:8080/",
          "height": 34
        }
      },
      "source": [
        "import numpy as np\n",
        "import matplotlib.pyplot as plt\n",
        "\n",
        "coverage = {}\n",
        "for i in range(N):\n",
        "  coverage[i] = np.random.randint(0, 100)/100\n",
        "print(coverage)"
      ],
      "execution_count": 121,
      "outputs": [
        {
          "output_type": "stream",
          "text": [
            "{0: 0.04, 1: 0.36, 2: 0.17, 3: 0.21, 4: 0.81, 5: 0.8, 6: 0.23, 7: 0.84, 8: 0.22, 9: 0.15, 10: 0.54, 11: 0.34}\n"
          ],
          "name": "stdout"
        }
      ]
    },
    {
      "cell_type": "code",
      "metadata": {
        "id": "h-PDBnozJA36",
        "colab_type": "code",
        "outputId": "502bca99-deec-4f18-9089-9d438d23e753",
        "colab": {
          "base_uri": "https://localhost:8080/",
          "height": 279
        }
      },
      "source": [
        "lists = sorted(coverage.items()) # sorted by key, return a list of tuples\n",
        "x, y = zip(*lists) # unpack a list of pairs into two tuples\n",
        "plt.xlabel(\"Satellite #\")\n",
        "plt.ylabel(\"Coverage\")\n",
        "plt.hlines(score_threshold, 0, N, linestyles='dashed', colors='r')\n",
        "plt.bar(x, y, align='edge')\n",
        "plt.show()"
      ],
      "execution_count": 122,
      "outputs": [
        {
          "output_type": "display_data",
          "data": {
            "image/png": "[encoded data removed]",
            "text/plain": [
              "<Figure size 432x288 with 1 Axes>"
            ]
          },
          "metadata": {
            "tags": [],
            "needs_background": "light"
          }
        }
      ]
    },
    {
      "cell_type": "code",
      "metadata": {
        "id": "jeqpVi32G6_V",
        "colab_type": "code",
        "colab": {}
      },
      "source": [
        "subconstellations = {} # create dict of subconstellations and its coverage\n",
        "\n",
        "for subconstellation in itertools.combinations(range(N), N//k):\n",
        "    score = sum(coverage[v] for v in subconstellation) / subconstellation_size\n",
        "\n",
        "    if score < score_threshold:\n",
        "        continue\n",
        "\n",
        "    subconstellations[subconstellation] = score"
      ],
      "execution_count": 0,
      "outputs": []
    },
    {
      "cell_type": "markdown",
      "metadata": {
        "id": "bv70plghgr7Y",
        "colab_type": "text"
      },
      "source": [
        "The ``score_threshold`` is used to determine bad constellations. Constellations with coverage less than this value is not considered. It is assigned an arbitrarily picked number i.e `0.4`. "
      ]
    },
    {
      "cell_type": "code",
      "metadata": {
        "id": "bGQIcKHKFLJG",
        "colab_type": "code",
        "colab": {}
      },
      "source": [
        "G = nx.Graph()\n",
        "G.add_nodes_from(list(subconstellations.items()))\n",
        "\n",
        "for c0, c1 in itertools.combinations(list(subconstellations.keys()), 2):\n",
        "    if set(c0).isdisjoint(set(c1)):\n",
        "        G.add_edge(c0,c1)"
      ],
      "execution_count": 0,
      "outputs": []
    },
    {
      "cell_type": "code",
      "metadata": {
        "id": "O0wZ7ynGFuMM",
        "colab_type": "code",
        "outputId": "f891783c-d269-4168-b530-97e80da1faf5",
        "colab": {
          "base_uri": "https://localhost:8080/",
          "height": 319
        }
      },
      "source": [
        "nx.draw(G)"
      ],
      "execution_count": 125,
      "outputs": [
        {
          "output_type": "display_data",
          "data": {
            "image/png": "[encoded data removed]",
            "text/plain": [
              "<Figure size 432x288 with 1 Axes>"
            ]
          },
          "metadata": {
            "tags": []
          }
        }
      ]
    },
    {
      "cell_type": "markdown",
      "metadata": {
        "id": "_5jUXeKhIrCB",
        "colab_type": "text"
      },
      "source": [
        "### Formulating the problem\n"
      ]
    },
    {
      "cell_type": "code",
      "metadata": {
        "id": "JnFcCgU3bqIg",
        "colab_type": "code",
        "colab": {}
      },
      "source": [
        "N = 35\n",
        "k = 10 # number of targets\n",
        "\n",
        "subconstellation_size = N // k  # satellites per constellation"
      ],
      "execution_count": 0,
      "outputs": []
    },
    {
      "cell_type": "code",
      "metadata": {
        "id": "WyJQnYPTc3Hp",
        "colab_type": "code",
        "outputId": "d8b21836-c7e6-4d56-c92d-e3dd5a36884a",
        "colab": {
          "base_uri": "https://localhost:8080/",
          "height": 54
        }
      },
      "source": [
        "coverage = {}\n",
        "for i in range(N):\n",
        "  coverage[i] = np.random.randint(0, 100)/100\n",
        "print(coverage)\n",
        "\n",
        "score_threshold = 0.4"
      ],
      "execution_count": 127,
      "outputs": [
        {
          "output_type": "stream",
          "text": [
            "{0: 0.82, 1: 0.27, 2: 0.02, 3: 0.35, 4: 0.28, 5: 0.9, 6: 0.49, 7: 0.15, 8: 0.65, 9: 0.4, 10: 0.64, 11: 0.53, 12: 0.08, 13: 0.41, 14: 0.56, 15: 0.99, 16: 0.24, 17: 0.6, 18: 0.46, 19: 0.11, 20: 0.53, 21: 0.21, 22: 0.89, 23: 0.89, 24: 0.74, 25: 0.46, 26: 0.55, 27: 0.01, 28: 0.21, 29: 0.87, 30: 0.49, 31: 0.87, 32: 0.54, 33: 0.1, 34: 0.56}\n"
          ],
          "name": "stdout"
        }
      ]
    },
    {
      "cell_type": "code",
      "metadata": {
        "id": "8KBpXzrwgN3f",
        "colab_type": "code",
        "outputId": "64e94069-30d8-4073-c40f-160ff357a432",
        "colab": {
          "base_uri": "https://localhost:8080/",
          "height": 279
        }
      },
      "source": [
        "lists = sorted(coverage.items()) # sorted by key, return a list of tuples\n",
        "x, y = zip(*lists) # unpack a list of pairs into two tuples\n",
        "plt.xlabel(\"Satellite #\")\n",
        "plt.ylabel(\"Coverage\")\n",
        "plt.hlines(score_threshold, 0, N, linestyles='dashed', colors='r')\n",
        "plt.bar(x, y, align='edge')\n",
        "plt.show()"
      ],
      "execution_count": 128,
      "outputs": [
        {
          "output_type": "display_data",
          "data": {
            "image/png": "[encoded data removed]",
            "text/plain": [
              "<Figure size 432x288 with 1 Axes>"
            ]
          },
          "metadata": {
            "tags": [],
            "needs_background": "light"
          }
        }
      ]
    },
    {
      "cell_type": "code",
      "metadata": {
        "id": "ojJpAl7h_7VC",
        "colab_type": "code",
        "outputId": "34baa74d-dbf2-47d4-a8d5-0c006047a050",
        "colab": {
          "base_uri": "https://localhost:8080/",
          "height": 34
        }
      },
      "source": [
        "import itertools\n",
        "\n",
        "subconstellations = {} # create dict of subconstellations and its coverage\n",
        "\n",
        "for subconstellation in itertools.combinations(range(N), N//k):\n",
        "    score = sum(coverage[v] for v in subconstellation) / subconstellation_size\n",
        "\n",
        "    if score < score_threshold:\n",
        "        continue\n",
        "\n",
        "    subconstellations[frozenset(subconstellation)] = score\n",
        "\n",
        "# print(list(subconstellations.items()))\n",
        "print(len(subconstellations))"
      ],
      "execution_count": 129,
      "outputs": [
        {
          "output_type": "stream",
          "text": [
            "4532\n"
          ],
          "name": "stdout"
        }
      ]
    },
    {
      "cell_type": "markdown",
      "metadata": {
        "id": "HBw65fnTMnjU",
        "colab_type": "text"
      },
      "source": [
        "### Genetic Algorithm"
      ]
    },
    {
      "cell_type": "code",
      "metadata": {
        "id": "mfm4ycqEACeI",
        "colab_type": "code",
        "colab": {}
      },
      "source": [
        "def init_pop(sol_per_pop):\n",
        "  population = []\n",
        "  for i in range(sol_per_pop):\n",
        "    constellation = [np.random.choice(list(subconstellations.keys())) for j in range(k)]\n",
        "    population.append(constellation)\n",
        "  return population"
      ],
      "execution_count": 0,
      "outputs": []
    },
    {
      "cell_type": "code",
      "metadata": {
        "id": "2rrSXdB8_7Mj",
        "colab_type": "code",
        "colab": {}
      },
      "source": [
        "import itertools\n",
        "\n",
        "def cal_fitness(population):\n",
        "  fitness = []\n",
        "\n",
        "  for con in population:\n",
        "    coverage = sum([subconstellations[subcon] for subcon in con])\n",
        "\n",
        "    # penalty multiple subcons sharing the same satellite\n",
        "    for a, b in itertools.combinations(con, 2): \n",
        "      if not a.isdisjoint(b):\n",
        "        coverage-=1\n",
        "\n",
        "    fitness.append(coverage)\n",
        "      \n",
        "  return fitness"
      ],
      "execution_count": 0,
      "outputs": []
    },
    {
      "cell_type": "code",
      "metadata": {
        "id": "4mIZyOlm_7CP",
        "colab_type": "code",
        "colab": {}
      },
      "source": [
        "def select_mating_pool(population, fitness, num_parents):\n",
        "    # Selecting the best individuals in the current generation as parents for producing the offspring of the next generation.\n",
        "    parents = []\n",
        "    for parent_num in range(num_parents):\n",
        "        max_fitness_idx = fitness.index(max(fitness))\n",
        "        parents.append(population[max_fitness_idx])\n",
        "        fitness[max_fitness_idx] = -999\n",
        "    return parents"
      ],
      "execution_count": 0,
      "outputs": []
    },
    {
      "cell_type": "code",
      "metadata": {
        "id": "IheNmrMiAJpb",
        "colab_type": "code",
        "colab": {}
      },
      "source": [
        "def crossover(parents, offspring_size):\n",
        "    offsprings = []\n",
        "    # The point at which crossover takes place between two parents. Usually it is at the center.\n",
        "    crossover_point = np.random.randint(k)\n",
        "\n",
        "    for i in range(offspring_size):\n",
        "        # Index of the first parent to mate.\n",
        "        parent1_idx = i%len(parents)\n",
        "        # Index of the second parent to mate.\n",
        "        parent2_idx = (i+1)%len(parents)\n",
        "        offspring = parents[parent1_idx][:crossover_point]+parents[parent2_idx][crossover_point:]\n",
        "        offsprings.append(offspring)\n",
        "\n",
        "    return offsprings"
      ],
      "execution_count": 0,
      "outputs": []
    },
    {
      "cell_type": "code",
      "metadata": {
        "id": "qobkEMrqAJnh",
        "colab_type": "code",
        "colab": {}
      },
      "source": [
        "def mutation(offspring_crossover):\n",
        "    # Mutation changes a single gene in each offspring randomly.\n",
        "    for idx in range(len(offspring_crossover)):\n",
        "        # The random value to be added to the gene.\n",
        "        random_idx = np.random.randint(N*k)\n",
        "        random_value = np.random.choice(list(subconstellations.keys()))\n",
        "        offspring_crossover[idx] = offspring_crossover[idx][:random_idx] + [random_value] + offspring_crossover[idx][random_idx+1:]\n",
        "    return offspring_crossover"
      ],
      "execution_count": 0,
      "outputs": []
    },
    {
      "cell_type": "code",
      "metadata": {
        "id": "V344ZW63AJjv",
        "colab_type": "code",
        "colab": {}
      },
      "source": [
        "sol_per_pop = 50\n",
        "num_generations = 2000\n",
        "\n",
        "fitness_g = []\n",
        "new_population = init_pop(sol_per_pop)\n",
        "num_parents_mating = sol_per_pop // 2\n",
        "\n",
        "for generation in range(num_generations):\n",
        "    \n",
        "    # Measuring the fitness of each chromosome in the population.\n",
        "    fitness = cal_fitness(new_population)\n",
        "\n",
        "    # Selecting the best parents in the population for mating.\n",
        "    parents = select_mating_pool(new_population, fitness, num_parents_mating)\n",
        "\n",
        "    # Generating next generation using crossover.\n",
        "    offspring_crossover = crossover(parents, offspring_size=sol_per_pop-len(parents))\n",
        "\n",
        "    # Adding some variations to the offsrping using mutation.\n",
        "    offspring_mutation = mutation(offspring_crossover)\n",
        "\n",
        "    # Creating the new population based on the parents and offspring.\n",
        "    new_population = parents + offspring_mutation\n",
        "\n",
        "    fitness_g.append(max(fitness))\n",
        "\n",
        "# Getting the best solution after iterating finishing all generations.\n",
        "fitness = cal_fitness(new_population)\n",
        "best_match_idx = np.where(fitness == np.max(fitness))[0][0]\n"
      ],
      "execution_count": 0,
      "outputs": []
    },
    {
      "cell_type": "code",
      "metadata": {
        "id": "DYrKx9uVAJhl",
        "colab_type": "code",
        "outputId": "877773c6-795e-4f48-9a4b-30fefcd644fd",
        "colab": {
          "base_uri": "https://localhost:8080/",
          "height": 71
        }
      },
      "source": [
        "print('Fitness :', max(fitness))\n",
        "print('Constellation :', new_population[best_match_idx])"
      ],
      "execution_count": 136,
      "outputs": [
        {
          "output_type": "stream",
          "text": [
            "Fitness : 4.293333333333334\n",
            "Constellation : [frozenset({0, 21, 30}), frozenset({27, 11, 15}), frozenset({16, 24, 6}), frozenset({32, 20, 29}), frozenset({8, 18, 13}), frozenset({10, 4, 23}), frozenset({25, 26, 31}), frozenset({17, 12, 14}), frozenset({1, 19, 22}), frozenset({8, 3, 13}), frozenset({32, 34, 29}), frozenset({9, 2, 5})]\n"
          ],
          "name": "stdout"
        }
      ]
    },
    {
      "cell_type": "code",
      "metadata": {
        "id": "njXfr80IAJfH",
        "colab_type": "code",
        "outputId": "f278066a-0871-4d1b-e13e-0aea975f4458",
        "colab": {
          "base_uri": "https://localhost:8080/",
          "height": 282
        }
      },
      "source": [
        "import matplotlib.pyplot as plt\n",
        "\n",
        "plt.plot(fitness_g)"
      ],
      "execution_count": 137,
      "outputs": [
        {
          "output_type": "execute_result",
          "data": {
            "text/plain": [
              "[<matplotlib.lines.Line2D at 0x7f8edd2fa7f0>]"
            ]
          },
          "metadata": {
            "tags": []
          },
          "execution_count": 137
        },
        {
          "output_type": "display_data",
          "data": {
            "image/png": "[encoded data removed]",
            "text/plain": [
              "<Figure size 432x288 with 1 Axes>"
            ]
          },
          "metadata": {
            "tags": [],
            "needs_background": "light"
          }
        }
      ]
    },
    {
      "cell_type": "markdown",
      "metadata": {
        "id": "0_9-m3WXNYTh",
        "colab_type": "text"
      },
      "source": [
        "### Quantum Annealing"
      ]
    },
    {
      "cell_type": "code",
      "metadata": {
        "id": "XqzhStbzpks2",
        "colab_type": "code",
        "colab": {}
      },
      "source": [
        "s = set()\n",
        "for con in new_population:\n",
        "    for subcon in con:    \n",
        "      s.add(subcon)\n",
        "\n",
        "subcons = {i:subconstellations[i] for i in list(s)}\n",
        "# print(subcons)\n",
        "# print(len(subcons))"
      ],
      "execution_count": 0,
      "outputs": []
    },
    {
      "cell_type": "code",
      "metadata": {
        "id": "-ac4olzXcUd6",
        "colab_type": "code",
        "colab": {}
      },
      "source": [
        "import random\n",
        "import dimod\n",
        "import neal\n",
        "import networkx as nx"
      ],
      "execution_count": 0,
      "outputs": []
    },
    {
      "cell_type": "code",
      "metadata": {
        "id": "Qy0Iem4MNygQ",
        "colab_type": "code",
        "colab": {}
      },
      "source": [
        "bqm = dimod.BinaryQuadraticModel.empty(dimod.BINARY)\n",
        "bqm.add_variables_from(subcons)    "
      ],
      "execution_count": 0,
      "outputs": []
    },
    {
      "cell_type": "code",
      "metadata": {
        "id": "OVdhHGdAlsQ8",
        "colab_type": "code",
        "colab": {}
      },
      "source": [
        "for c0, c1 in itertools.combinations(bqm.variables, 2):\n",
        "    if c0.isdisjoint(c1):\n",
        "        continue\n",
        "    bqm.add_interaction(c0, c1, 2)"
      ],
      "execution_count": 0,
      "outputs": []
    },
    {
      "cell_type": "code",
      "metadata": {
        "id": "r0AgXV5rlvqE",
        "colab_type": "code",
        "colab": {}
      },
      "source": [
        "# choosing num_constellations variables \n",
        "bqm.update(dimod.generators.combinations(bqm, k))"
      ],
      "execution_count": 0,
      "outputs": []
    },
    {
      "cell_type": "code",
      "metadata": {
        "id": "rLtpH7d7YadW",
        "colab_type": "code",
        "colab": {}
      },
      "source": [
        "# sample from the bqm using simulated annealing\n",
        "sampleset = neal.Neal().sample(bqm, num_reads=100).aggregate()\n",
        "\n",
        "constellations = [constellation\n",
        "                  for constellation, chosen in sampleset.first.sample.items()\n",
        "                  if chosen]"
      ],
      "execution_count": 0,
      "outputs": []
    },
    {
      "cell_type": "code",
      "metadata": {
        "id": "7EMss043NflA",
        "colab_type": "code",
        "outputId": "7155206d-18c3-4097-b8c1-98085e84ea25",
        "colab": {
          "base_uri": "https://localhost:8080/",
          "height": 71
        }
      },
      "source": [
        "print('Energy : ', sampleset.first.energy)\n",
        "print('Constellation : ', constellations)"
      ],
      "execution_count": 144,
      "outputs": [
        {
          "output_type": "stream",
          "text": [
            "Energy :  4.526666666666301\n",
            "Constellation :  [frozenset({8, 18, 13}), frozenset({2, 28, 15}), frozenset({25, 3, 20}), frozenset({16, 5, 7}), frozenset({0, 21, 30}), frozenset({34, 27, 29}), frozenset({4, 12, 23}), frozenset({1, 19, 22}), frozenset({32, 9, 11}), frozenset({17, 14, 33})]\n"
          ],
          "name": "stdout"
        }
      ]
    }
  ]
}